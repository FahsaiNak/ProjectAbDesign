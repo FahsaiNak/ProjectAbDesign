{
  "cells": [
    {
      "cell_type": "markdown",
      "id": "a5c578bd-583a-4e25-86a2-d0e71741f858",
      "metadata": {
        "tags": [],
        "id": "a5c578bd-583a-4e25-86a2-d0e71741f858"
      },
      "source": [
        "##"
      ]
    },
    {
      "cell_type": "markdown",
      "id": "68aba4c6-7bd1-45cc-a380-2c6cd2370b65",
      "metadata": {
        "id": "68aba4c6-7bd1-45cc-a380-2c6cd2370b65"
      },
      "source": [
        "# Structure Vizualization\n"
      ]
    },
    {
      "cell_type": "code",
      "execution_count": 2,
      "id": "3fb13bae-d07f-4170-af24-27952ac71fb6",
      "metadata": {
        "colab": {
          "base_uri": "https://localhost:8080/"
        },
        "id": "3fb13bae-d07f-4170-af24-27952ac71fb6",
        "outputId": "18279cf2-fe9f-4909-e993-10164229818c"
      },
      "outputs": [
        {
          "output_type": "stream",
          "name": "stdout",
          "text": [
            "Collecting py3Dmol\n",
            "  Downloading py3Dmol-2.0.4-py2.py3-none-any.whl (12 kB)\n",
            "Installing collected packages: py3Dmol\n",
            "Successfully installed py3Dmol-2.0.4\n"
          ]
        }
      ],
      "source": [
        "!pip install py3Dmol"
      ]
    },
    {
      "cell_type": "code",
      "execution_count": 3,
      "id": "e06821b0-3bcb-4c0d-997c-948a36d24090",
      "metadata": {
        "tags": [],
        "id": "e06821b0-3bcb-4c0d-997c-948a36d24090"
      },
      "outputs": [],
      "source": [
        "import py3Dmol\n",
        "import pandas as pd # for reading csvs\n",
        "import ast # for parsing strings to literals\n",
        "import unittest"
      ]
    },
    {
      "cell_type": "markdown",
      "id": "9135e3ec-77fc-4c0d-b7c7-cd8e608d180d",
      "metadata": {
        "id": "9135e3ec-77fc-4c0d-b7c7-cd8e608d180d"
      },
      "source": [
        "## Enter File Name, PDB ID, and AbAg index of Protein of Interest Below\n",
        "Enter PDB ID, and filename of csv, formatted as exported by process_AbAg.py. If the protein of interest has multiple associated Ab-like and Ag-like pairs, enter the index of the pair you'd like to visulize, starting with zero."
      ]
    },
    {
      "cell_type": "code",
      "execution_count": 7,
      "id": "242b18b8-fa4a-40a2-9a51-ead350e2c762",
      "metadata": {
        "tags": [],
        "id": "242b18b8-fa4a-40a2-9a51-ead350e2c762"
      },
      "outputs": [],
      "source": [
        "pdb_id = '5kbs'\n",
        "AbAg_pair_index = 0 # if multiple pairs present for PDB_id\n",
        "csv_file_path = 'regions_for_vis.csv' # ensure that this represents the correct location of the csv\n",
        "# IF RUNNING FROM SRC DIRECTORY, uncomment the following lines to access csvs in the data direcotry\n",
        "#import os\n",
        "#current_dir = os.getcwd()\n",
        "# Navigate to the 'data' directory relative to the current directory\n",
        "#data_dir = os.path.join(current_dir, '..', 'data')  # '..' refers to the parent directory\n",
        "# Construct the path to your CSV file\n",
        "#csv_file_path = os.path.join(data_dir, 'regions_for_vis.csv')"
      ]
    },
    {
      "cell_type": "markdown",
      "id": "6024ad57-b55d-49db-8223-02c7fbae0e8a",
      "metadata": {
        "id": "6024ad57-b55d-49db-8223-02c7fbae0e8a"
      },
      "source": [
        "## Run Below Code Block to Define Functions"
      ]
    },
    {
      "cell_type": "code",
      "execution_count": 5,
      "id": "58a5266c-2ed1-4a26-a902-20029a43aee3",
      "metadata": {
        "tags": [],
        "id": "58a5266c-2ed1-4a26-a902-20029a43aee3"
      },
      "outputs": [],
      "source": [
        "def read_csv(filename, pdb_id, AbAg_index=0):\n",
        "    try:\n",
        "        # Read CSV file into a DataFrame\n",
        "        AbAg_df = pd.read_csv(filename)\n",
        "\n",
        "        # Check if 'pdb_id' column exists in the DataFrame\n",
        "        if 'pdb_id' not in AbAg_df.columns:\n",
        "            raise ValueError(\"CSV file does not contain 'pdb_id' column.\")\n",
        "\n",
        "        # Filter rows based on the provided pdb_id\n",
        "        AbAg_filtered_df = AbAg_df[AbAg_df['pdb_id'] == pdb_id]\n",
        "\n",
        "        # Check if the filtered DataFrame is empty\n",
        "        if AbAg_filtered_df.empty:\n",
        "            return None, None, None, None\n",
        "\n",
        "        # Check for necessary columns in the filtered DataFrame\n",
        "        necessary_columns = ['ab-like integers', 'ab-like chains', 'ag-like integers', 'ag-like chains']\n",
        "        missing_columns = [col for col in necessary_columns if col not in AbAg_filtered_df.columns]\n",
        "\n",
        "        if missing_columns:\n",
        "            missing_cols_str = ', '.join(missing_columns)\n",
        "            raise ValueError(f\"CSV file missing necessary columns: {missing_cols_str}\")\n",
        "\n",
        "        # Check if AbAg_index is within bounds\n",
        "        if AbAg_index >= len(AbAg_filtered_df):\n",
        "            raise ValueError(\"AbAg_index out of bounds.\")\n",
        "\n",
        "        # Extract Ab-like and Ag-like indices and chain letters based on the AbAg_index\n",
        "        ab_indices = AbAg_filtered_df.iloc[AbAg_index]['ab-like integers']\n",
        "        ab_chains = AbAg_filtered_df.iloc[AbAg_index]['ab-like chains']\n",
        "\n",
        "        ag_indices = AbAg_filtered_df.iloc[AbAg_index]['ag-like integers']\n",
        "        ag_chains = AbAg_filtered_df.iloc[AbAg_index]['ag-like chains']\n",
        "\n",
        "        return ab_indices, ab_chains, ag_indices, ag_chains\n",
        "\n",
        "    except FileNotFoundError as fnf_err:\n",
        "        raise FileNotFoundError(f\"File '{filename}' not found.\") from fnf_err\n",
        "    except ValueError as ve:\n",
        "        raise ve  # Re-raise the caught ValueError\n",
        "    except Exception as e:\n",
        "        raise e  # Re-raise other exceptions for debugging\n",
        "\n",
        "\n",
        "\n",
        "def string_literal_to_list(string_literal):\n",
        "    \"\"\"\n",
        "    Converts a string literal representing a list to a list of elements. Turns the string \"['A','A','A','A','A']\"\n",
        "    into the list ['A','A','A','A','A']. Turns \"[1,2,3]\" to list containing the elements 1, 2 and 3.\n",
        "\n",
        "    Parameters:\n",
        "    - string_literal (str): String literal representing a list.\n",
        "\n",
        "    Returns:\n",
        "    - elements_list (list): List of elements.\n",
        "\n",
        "    \"\"\"\n",
        "    try:\n",
        "        # Parse the string literal into a Python object\n",
        "        elements_list = ast.literal_eval(string_literal)\n",
        "        return elements_list\n",
        "    except (SyntaxError, ValueError):\n",
        "        # Handle the case where the string is not a valid literal\n",
        "        return None\n",
        "\n",
        "def visualize_AbAg_regions(pdb_id, ab_chains, ab_indices, ag_chains, ag_indices):\n",
        "    \"\"\"\n",
        "    Vizualize the protein\n",
        "    ab_chains - (list of chars) representing the chains of each index of each residue in the Ab-like region\n",
        "    ab_indices - (list of integers) representing the indicies of each residue in the Ab-like region\n",
        "    ag_chains - (list of chars) representing the chains of each index of each residue in the Ag-like region\n",
        "    ag_indices - (list of integers) representing the indicies of each residue in the Ag-like region\n",
        "    \"\"\"\n",
        "    if not len(ab_chains) == len(ab_indices) or not len(ag_indices) == len(ag_chains):\n",
        "        raise ValueError(\"Invalid input: Lengths of chains and indices do not match.\")\n",
        "\n",
        "    try:\n",
        "        view = py3Dmol.view(query='pdb:'+ pdb_id)\n",
        "    except Exception as e:\n",
        "        print(\"Error retrieving PDB data:\", e)\n",
        "        return\n",
        "\n",
        "    try:\n",
        "        view.setStyle({'model': -1},{'cartoon': {'color': '#C7FFEE'}})\n",
        "        view.addStyle({'chain': ab_chains, 'resi': ab_indices},{'cartoon': {'color': 'magenta'}})\n",
        "        view.addStyle({'chain': ag_chains, 'resi': ag_indices},{'cartoon': {'color': 'blue'}})\n",
        "    except Exception as e:\n",
        "        print(\"Error setting style:\", e)\n",
        "        return\n",
        "\n",
        "    view.show()"
      ]
    },
    {
      "cell_type": "markdown",
      "id": "49ac0b76-e2e1-49b8-949b-58ba51386894",
      "metadata": {
        "id": "49ac0b76-e2e1-49b8-949b-58ba51386894"
      },
      "source": [
        "## Run Below Function Calls to Produce the Visualization"
      ]
    },
    {
      "cell_type": "code",
      "execution_count": 8,
      "id": "2612e213-a8e9-48b8-8d55-083fd04a78e0",
      "metadata": {
        "tags": [],
        "colab": {
          "base_uri": "https://localhost:8080/",
          "height": 497
        },
        "id": "2612e213-a8e9-48b8-8d55-083fd04a78e0",
        "outputId": "0c07efc0-2da6-427e-88da-d8ab94820973"
      },
      "outputs": [
        {
          "output_type": "display_data",
          "data": {
            "application/3dmoljs_load.v0": "<div id=\"3dmolviewer_17025700635438895\"  style=\"position: relative; width: 640px; height: 480px;\">\n        <p id=\"3dmolwarning_17025700635438895\" style=\"background-color:#ffcccc;color:black\">You appear to be running in JupyterLab (or JavaScript failed to load for some other reason).  You need to install the 3dmol extension: <br>\n        <tt>jupyter labextension install jupyterlab_3dmol</tt></p>\n        </div>\n<script>\n\nvar loadScriptAsync = function(uri){\n  return new Promise((resolve, reject) => {\n    //this is to ignore the existence of requirejs amd\n    var savedexports, savedmodule;\n    if (typeof exports !== 'undefined') savedexports = exports;\n    else exports = {}\n    if (typeof module !== 'undefined') savedmodule = module;\n    else module = {}\n\n    var tag = document.createElement('script');\n    tag.src = uri;\n    tag.async = true;\n    tag.onload = () => {\n        exports = savedexports;\n        module = savedmodule;\n        resolve();\n    };\n  var firstScriptTag = document.getElementsByTagName('script')[0];\n  firstScriptTag.parentNode.insertBefore(tag, firstScriptTag);\n});\n};\n\nif(typeof $3Dmolpromise === 'undefined') {\n$3Dmolpromise = null;\n  $3Dmolpromise = loadScriptAsync('https://cdnjs.cloudflare.com/ajax/libs/3Dmol/2.0.4/3Dmol-min.js');\n}\n\nvar viewer_17025700635438895 = null;\nvar warn = document.getElementById(\"3dmolwarning_17025700635438895\");\nif(warn) {\n    warn.parentNode.removeChild(warn);\n}\n$3Dmolpromise.then(function() {\nviewer_17025700635438895 = $3Dmol.createViewer(document.getElementById(\"3dmolviewer_17025700635438895\"),{backgroundColor:\"white\"});\n$3Dmol.download(\"pdb:4r2n\", viewer_17025700635438895, {}, function() {\nviewer_17025700635438895.zoomTo();\n\tviewer_17025700635438895.setStyle({\"model\": -1},{\"cartoon\": {\"color\": \"#C7FFEE\"}});\n\tviewer_17025700635438895.addStyle({\"chain\": [\"A\", \"A\", \"A\", \"A\", \"A\"], \"resi\": [300, 301, 302, 303, 304]},{\"cartoon\": {\"color\": \"magenta\"}});\n\tviewer_17025700635438895.addStyle({\"chain\": [\"A\", \"A\", \"A\", \"A\", \"A\", \"A\", \"A\", \"A\", \"A\", \"A\", \"A\", \"A\", \"A\", \"A\", \"A\", \"A\", \"A\", \"A\", \"A\", \"A\", \"A\", \"A\", \"A\"], \"resi\": [108, 132, 158, 159, 292, 299, 324, 327, 328, 329, 330, 284, 289, 290, 291, 310, 331, 342, 305, 306, 307, 349, 326]},{\"cartoon\": {\"color\": \"blue\"}});\nviewer_17025700635438895.render();\n})\n});\n</script>",
            "text/html": [
              "<div id=\"3dmolviewer_17025700635438895\"  style=\"position: relative; width: 640px; height: 480px;\">\n",
              "        <p id=\"3dmolwarning_17025700635438895\" style=\"background-color:#ffcccc;color:black\">You appear to be running in JupyterLab (or JavaScript failed to load for some other reason).  You need to install the 3dmol extension: <br>\n",
              "        <tt>jupyter labextension install jupyterlab_3dmol</tt></p>\n",
              "        </div>\n",
              "<script>\n",
              "\n",
              "var loadScriptAsync = function(uri){\n",
              "  return new Promise((resolve, reject) => {\n",
              "    //this is to ignore the existence of requirejs amd\n",
              "    var savedexports, savedmodule;\n",
              "    if (typeof exports !== 'undefined') savedexports = exports;\n",
              "    else exports = {}\n",
              "    if (typeof module !== 'undefined') savedmodule = module;\n",
              "    else module = {}\n",
              "\n",
              "    var tag = document.createElement('script');\n",
              "    tag.src = uri;\n",
              "    tag.async = true;\n",
              "    tag.onload = () => {\n",
              "        exports = savedexports;\n",
              "        module = savedmodule;\n",
              "        resolve();\n",
              "    };\n",
              "  var firstScriptTag = document.getElementsByTagName('script')[0];\n",
              "  firstScriptTag.parentNode.insertBefore(tag, firstScriptTag);\n",
              "});\n",
              "};\n",
              "\n",
              "if(typeof $3Dmolpromise === 'undefined') {\n",
              "$3Dmolpromise = null;\n",
              "  $3Dmolpromise = loadScriptAsync('https://cdnjs.cloudflare.com/ajax/libs/3Dmol/2.0.4/3Dmol-min.js');\n",
              "}\n",
              "\n",
              "var viewer_17025700635438895 = null;\n",
              "var warn = document.getElementById(\"3dmolwarning_17025700635438895\");\n",
              "if(warn) {\n",
              "    warn.parentNode.removeChild(warn);\n",
              "}\n",
              "$3Dmolpromise.then(function() {\n",
              "viewer_17025700635438895 = $3Dmol.createViewer(document.getElementById(\"3dmolviewer_17025700635438895\"),{backgroundColor:\"white\"});\n",
              "$3Dmol.download(\"pdb:4r2n\", viewer_17025700635438895, {}, function() {\n",
              "viewer_17025700635438895.zoomTo();\n",
              "\tviewer_17025700635438895.setStyle({\"model\": -1},{\"cartoon\": {\"color\": \"#C7FFEE\"}});\n",
              "\tviewer_17025700635438895.addStyle({\"chain\": [\"A\", \"A\", \"A\", \"A\", \"A\"], \"resi\": [300, 301, 302, 303, 304]},{\"cartoon\": {\"color\": \"magenta\"}});\n",
              "\tviewer_17025700635438895.addStyle({\"chain\": [\"A\", \"A\", \"A\", \"A\", \"A\", \"A\", \"A\", \"A\", \"A\", \"A\", \"A\", \"A\", \"A\", \"A\", \"A\", \"A\", \"A\", \"A\", \"A\", \"A\", \"A\", \"A\", \"A\"], \"resi\": [108, 132, 158, 159, 292, 299, 324, 327, 328, 329, 330, 284, 289, 290, 291, 310, 331, 342, 305, 306, 307, 349, 326]},{\"cartoon\": {\"color\": \"blue\"}});\n",
              "viewer_17025700635438895.render();\n",
              "})\n",
              "});\n",
              "</script>"
            ]
          },
          "metadata": {}
        }
      ],
      "source": [
        "ab_indices_string, ab_chains_string, ag_indices_string, ag_chains_string = read_csv(csv_file_path, pdb_id, AbAg_pair_index)\n",
        "\n",
        "ab_indices = string_literal_to_list(ab_indices_string)\n",
        "ag_indices = string_literal_to_list(ag_indices_string)\n",
        "ab_chains = string_literal_to_list(ab_chains_string)\n",
        "ag_chains = string_literal_to_list(ag_chains_string)\n",
        "\n",
        "visualize_AbAg_regions(pdb_id, ab_chains, ab_indices, ag_chains, ag_indices)"
      ]
    },
    {
      "cell_type": "markdown",
      "id": "544d7068-372d-4ff0-9225-2877dbc87cf2",
      "metadata": {
        "id": "544d7068-372d-4ff0-9225-2877dbc87cf2"
      },
      "source": [
        "## Run below to test code\n",
        "Ensure that the test data files: regions_for_vis.csv and vis_test_bad.csv are present in the data subdirectory."
      ]
    },
    {
      "cell_type": "code",
      "execution_count": 11,
      "id": "cd535644-adeb-45a2-8e45-6fe1602ac03d",
      "metadata": {
        "colab": {
          "base_uri": "https://localhost:8080/"
        },
        "id": "cd535644-adeb-45a2-8e45-6fe1602ac03d",
        "outputId": "3de40585-7540-45c1-c099-d1d295569452"
      },
      "outputs": [
        {
          "output_type": "stream",
          "name": "stderr",
          "text": [
            "\n",
            "----------------------------------------------------------------------\n",
            "Ran 0 tests in 0.000s\n",
            "\n",
            "OK\n"
          ]
        }
      ],
      "source": [
        "def main():\n",
        "    class TestReadCSVFunction(unittest.TestCase):\n",
        "        def test_read_csv_with_valid_input(self):\n",
        "            # Provide the test data file\n",
        "            pdb_id = '5kbs'\n",
        "            ab_indices, ab_chains, ag_indices, ag_chains = read_csv(csv_file_path, pdb_id)\n",
        "            expected_ab_indices = '[305, 306, 307, 308]'\n",
        "            expected_ab_chains = \"['C', 'C', 'C', 'C']\"\n",
        "            expected_ag_indices = '[303, 304, 325, 71, 299, 323, 328, 329, 309]'\n",
        "            expected_ag_chains = \"['C', 'C', 'C', 'C', 'C', 'C', 'C', 'C', 'C']\"\n",
        "            self.assertEqual(ab_indices, expected_ab_indices)\n",
        "            self.assertEqual(ab_chains, expected_ab_chains)\n",
        "            self.assertEqual(ag_indices, expected_ag_indices)\n",
        "            self.assertEqual(ag_chains, expected_ag_chains)\n",
        "\n",
        "        def test_read_csv_with_missing_pdb_id_column(self):\n",
        "            # Test when the CSV file doesn't contain 'pdb_id' column\n",
        "            valid_pdb_id = '5kbs'\n",
        "            with self.assertRaises(ValueError):\n",
        "                read_csv('vis_test_bad.csv', valid_pdb_id)\n",
        "\n",
        "        def test_read_csv_with_missing_columns(self):\n",
        "            # Test when the CSV file is missing necessary columns\n",
        "            valid_pdb_id = '5kbs'\n",
        "            with self.assertRaises(ValueError):\n",
        "                read_csv('vis_test_bad.csv', valid_pdb_id)\n",
        "\n",
        "        def test_read_csv_with_invalid_index(self):\n",
        "            # Test when AbAg_index is out of bounds\n",
        "            valid_pdb_id = '5kbs' # only one match for this pdb_id\n",
        "            # Use try-except to capture the exception and print additional information\n",
        "            try:\n",
        "                read_csv('csv_file_path.csv', valid_pdb_id, AbAg_index=1)\n",
        "            except ValueError as e:\n",
        "                print(\"Caught ValueError:\", e)\n",
        "                raise e  # Re-raise the exception to see the traceback in the test output\n",
        "\n",
        "        def test_read_csv_with_file_not_found(self):\n",
        "            # Test when the CSV file is not found\n",
        "            valid_pdb_id = '5kbs'\n",
        "            with self.assertRaises(FileNotFoundError):\n",
        "                read_csv('doesnt_exist.csv', valid_pdb_id)\n",
        "\n",
        "    class TestStringLiteralToListFunction(unittest.TestCase):\n",
        "        def test_string_literal_to_list_with_valid_input(self):\n",
        "            valid_string_literal_1 = \"['a', 'b', 'c']\"\n",
        "            expected_output_1 = ['a', 'b', 'c']\n",
        "            valid_string_literal_2 = \"[1, 2, 3]\"\n",
        "            expected_output_2 = [1, 2, 3]\n",
        "\n",
        "            output_1 = string_literal_to_list(valid_string_literal_1)\n",
        "            output_2 = string_literal_to_list(valid_string_literal_2)\n",
        "\n",
        "            self.assertEqual(output_1, expected_output_1)\n",
        "            self.assertEqual(output_2, expected_output_2)\n",
        "\n",
        "        def test_string_literal_to_list_with_invalid_input(self):\n",
        "            # Test with invalid string literals\n",
        "            invalid_string_literal = \"'a', 'b']\"\n",
        "            output = string_literal_to_list(invalid_string_literal)\n",
        "            self.assertIsNone(output)\n",
        "\n",
        "\n",
        "if __name__ == '__main__':\n",
        "    unittest.main(argv=['first-arg-is-ignored'], exit=False) # Necessary to execute in ipynb"
      ]
    },
    {
      "cell_type": "code",
      "source": [],
      "metadata": {
        "id": "GW7wy7cLFaMt"
      },
      "id": "GW7wy7cLFaMt",
      "execution_count": null,
      "outputs": []
    }
  ],
  "metadata": {
    "kernelspec": {
      "display_name": "Python 3 (ipykernel)",
      "language": "python",
      "name": "python3"
    },
    "language_info": {
      "codemirror_mode": {
        "name": "ipython",
        "version": 3
      },
      "file_extension": ".py",
      "mimetype": "text/x-python",
      "name": "python",
      "nbconvert_exporter": "python",
      "pygments_lexer": "ipython3",
      "version": "3.11.5"
    },
    "colab": {
      "provenance": [],
      "toc_visible": true
    }
  },
  "nbformat": 4,
  "nbformat_minor": 5
}